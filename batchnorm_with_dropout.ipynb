{
 "cells": [
  {
   "cell_type": "code",
   "execution_count": 1,
   "metadata": {},
   "outputs": [
    {
     "name": "stderr",
     "output_type": "stream",
     "text": [
      "/home/bikasherl/miniconda3/envs/bajra/lib/python3.12/site-packages/torch/cuda/__init__.py:619: UserWarning: Can't initialize NVML\n",
      "  warnings.warn(\"Can't initialize NVML\")\n"
     ]
    }
   ],
   "source": [
    "import torch\n",
    "import torchvision\n",
    "from torchvision.datasets import MNIST,EMNIST\n",
    "from torchvision.transforms import ToTensor\n",
    "import matplotlib.pyplot as plt"
   ]
  },
  {
   "cell_type": "markdown",
   "metadata": {},
   "source": [
    "## EMNIST Dataset"
   ]
  },
  {
   "cell_type": "code",
   "execution_count": 2,
   "metadata": {},
   "outputs": [
    {
     "data": {
      "text/plain": [
       "(Dataset EMNIST\n",
       "     Number of datapoints: 112800\n",
       "     Root location: emnist_dataset/train/\n",
       "     Split: Train\n",
       "     StandardTransform\n",
       " Transform: ToTensor(),\n",
       " Dataset EMNIST\n",
       "     Number of datapoints: 18800\n",
       "     Root location: emnist_dataset/test/\n",
       "     Split: Test\n",
       "     StandardTransform\n",
       " Transform: ToTensor())"
      ]
     },
     "execution_count": 2,
     "metadata": {},
     "output_type": "execute_result"
    }
   ],
   "source": [
    "train_edata=EMNIST(root='emnist_dataset/train/',split='balanced',train=True,download=True,transform=ToTensor())\n",
    "test_edata=EMNIST(root='emnist_dataset/test/',split='balanced',train=False,download=True,transform=ToTensor())\n",
    "train_edata,test_edata"
   ]
  },
  {
   "cell_type": "markdown",
   "metadata": {},
   "source": [
    "## Train and Test Set Preparation"
   ]
  },
  {
   "cell_type": "code",
   "execution_count": 3,
   "metadata": {},
   "outputs": [
    {
     "data": {
      "text/plain": [
       "(torch.Size([112800, 784]),\n",
       " torch.Size([112800, 1]),\n",
       " torch.Size([18800, 784]),\n",
       " torch.Size([18800, 1]))"
      ]
     },
     "execution_count": 3,
     "metadata": {},
     "output_type": "execute_result"
    }
   ],
   "source": [
    "#train set\n",
    "X_etrain=torch.flatten(train_edata.data,1,2).to(torch.float32)/255\n",
    "Y_etrain=train_edata.targets.reshape(X_etrain.shape[0],1).to(torch.int8)\n",
    "\n",
    "# test set\n",
    "X_etest=torch.flatten(test_edata.data,1,2).to(torch.float32)/255\n",
    "Y_etest=test_edata.targets.reshape(X_etest.shape[0],1).to(torch.int8)\n",
    "\n",
    "X_etrain.shape,Y_etrain.shape,X_etest.shape,Y_etest.shape"
   ]
  },
  {
   "cell_type": "code",
   "execution_count": 4,
   "metadata": {},
   "outputs": [
    {
     "data": {
      "text/plain": [
       "(torch.Size([112800, 47]), torch.Size([18800, 47]))"
      ]
     },
     "execution_count": 4,
     "metadata": {},
     "output_type": "execute_result"
    }
   ],
   "source": [
    "## One hot encoding For the labels\n",
    "\n",
    "Y_enc_etrain=torch.zeros((Y_etrain.shape[0],len(train_edata.classes))).to(torch.int8)\n",
    "\n",
    "for i in range(Y_etrain.shape[0]):\n",
    "    Y_enc_etrain[i][Y_etrain[i].item()]=1\n",
    "\n",
    "\n",
    "Y_enc_etest=torch.zeros((Y_etest.shape[0],len(test_edata.classes))).to(torch.int8)\n",
    "\n",
    "for i in range(Y_etest.shape[0]):\n",
    "    Y_enc_etest[i][Y_etest[i].item()]=1\n",
    "\n",
    "\n",
    "Y_enc_etrain.shape,Y_enc_etest.shape"
   ]
  },
  {
   "cell_type": "markdown",
   "metadata": {},
   "source": [
    "## Weights and Bias Initialization"
   ]
  },
  {
   "cell_type": "code",
   "execution_count": 5,
   "metadata": {},
   "outputs": [
    {
     "name": "stdout",
     "output_type": "stream",
     "text": [
      "shape- W1: torch.Size([784, 128])       \n",
      "shape- b1: torch.Size([1, 128])      \n",
      "shape- W2: torch.Size([128, 47])      \n",
      "shape- b2: torch.Size([1, 47])\n"
     ]
    }
   ],
   "source": [
    "\n",
    "num_input=X_etrain.shape[1]\n",
    "num_hidden=128\n",
    "\n",
    "\n",
    "# kaiming weight initialization\n",
    "W1=torch.randn((num_input,num_hidden),dtype=torch.float32,requires_grad=True)*torch.sqrt(torch.tensor(2/num_input))\n",
    "b1=torch.randn((1,num_hidden),dtype=torch.float32,requires_grad=True)*torch.sqrt(torch.tensor(2/num_input))\n",
    "\n",
    "W2=torch.randn((num_hidden,Y_enc_etrain.shape[1]),dtype=torch.float32,requires_grad=True)*torch.sqrt(torch.tensor(2/num_hidden))\n",
    "b2=torch.randn((1,Y_enc_etrain.shape[1]),dtype=torch.float32,requires_grad=True)*torch.sqrt(torch.tensor(2/num_hidden))\n",
    "\n",
    "\n",
    "print(f\"shape- W1: {W1.shape}\\\n",
    "       \\nshape- b1: {b1.shape}\\\n",
    "      \\nshape- W2: {W2.shape}\\\n",
    "      \\nshape- b2: {b2.shape}\")"
   ]
  },
  {
   "cell_type": "markdown",
   "metadata": {},
   "source": [
    "## Utility Functions"
   ]
  },
  {
   "cell_type": "code",
   "execution_count": 6,
   "metadata": {},
   "outputs": [],
   "source": [
    "def softmax(Z):\n",
    "    return (torch.exp(Z)/torch.sum(torch.exp(Z),dim=1,keepdim=True))\n",
    "\n",
    "def categorical_cross_entropy(Y_enc_train,Y_hat):\n",
    "    return torch.sum((-Y_enc_train*torch.log(Y_hat)),dim=1,keepdim=True).mean()"
   ]
  },
  {
   "cell_type": "markdown",
   "metadata": {},
   "source": [
    "## Building and Training the Model"
   ]
  },
  {
   "cell_type": "code",
   "execution_count": 7,
   "metadata": {},
   "outputs": [],
   "source": [
    "loss_list_train=[]\n",
    "loss_list_test=[]\n",
    "dropout=0.2"
   ]
  },
  {
   "cell_type": "code",
   "execution_count": 8,
   "metadata": {},
   "outputs": [
    {
     "name": "stdout",
     "output_type": "stream",
     "text": [
      " Epoch: 0 | Train Loss: 3.9296932220458984 | Test Loss: 3.7044057846069336\n",
      " Epoch: 100 | Train Loss: 1.3405590057373047 | Test Loss: 1.2500892877578735\n",
      " Epoch: 200 | Train Loss: 1.1264387369155884 | Test Loss: 1.0431874990463257\n",
      " Epoch: 300 | Train Loss: 1.0171177387237549 | Test Loss: 0.9450430274009705\n",
      " Epoch: 400 | Train Loss: 0.9578790664672852 | Test Loss: 0.8973883986473083\n"
     ]
    }
   ],
   "source": [
    "\n",
    "for epoch in range(500):\n",
    "\n",
    "    # forward pass\n",
    "    Z1=X_etrain@W1 + b1\n",
    "    A1=torch.relu(Z1)\n",
    "\n",
    "    A1=A1*torch.bernoulli(torch.ones_like(A1)*(1-dropout))\n",
    "\n",
    "    Z2=A1@W2 + b2\n",
    "    Y_ehat=softmax(Z2)\n",
    "    \n",
    "    Loss=categorical_cross_entropy(Y_enc_etrain,Y_ehat)\n",
    "    # Loss=torch.sum((-Y_enc_etrain*torch.log(Y_ehat)),dim=1,keepdim=True).mean()\n",
    "\n",
    "    loss_list_train.append(Loss.item())\n",
    "\n",
    "    # backpropgation\n",
    "    dL_dZ2=(Y_ehat-Y_enc_etrain)/X_etrain.shape[0]\n",
    "    dZ2_dW2=A1\n",
    "    \n",
    "    dL_dW2=dZ2_dW2.T@dL_dZ2\n",
    "    dL_db2=torch.sum(dL_dZ2,dim=0,keepdim=True)\n",
    "\n",
    "\n",
    "    dZ2_dA1=W2\n",
    "    dL_dA1= dL_dZ2 @ dZ2_dA1.T\n",
    "\n",
    "\n",
    "    dA1_dZ1=torch.where((Z1<0),0, 1)\n",
    "\n",
    "    dL_dZ1=(dA1_dZ1 * dL_dA1)\n",
    "\n",
    "    dZ1_dW1=X_etrain\n",
    "\n",
    "    dL_dW1=dZ1_dW1.T @ dL_dZ1\n",
    "    dL_db1=torch.sum(dL_dZ1,dim=0,keepdim=True)\n",
    "\n",
    "    with torch.no_grad():\n",
    "        # weights and biases optimization\n",
    "        W2-=0.9*dL_dW2\n",
    "        b2-=0.9*dL_db2\n",
    "        W1-=0.9*dL_dW1\n",
    "        b1-=0.9*dL_db1\n",
    "\n",
    "    # validating in the test set\n",
    "    Z1_test=X_etest@W1+b1\n",
    "    A1=torch.relu(Z1_test)\n",
    "    Z2_test=A1@W2 + b2\n",
    "    Y_hat_test=softmax(Z2_test)\n",
    "    Loss_test=torch.sum((-Y_enc_etest*torch.log(Y_hat_test)),dim=1,keepdim=True).mean()\n",
    "    loss_list_test.append(Loss_test.item())\n",
    "\n",
    "    \n",
    "    if epoch % 100==0:\n",
    "        print(f\" Epoch: {epoch} | Train Loss: {Loss.item()} | Test Loss: {Loss_test.item()}\")\n"
   ]
  },
  {
   "cell_type": "markdown",
   "metadata": {},
   "source": [
    "## Saving the Model"
   ]
  },
  {
   "cell_type": "code",
   "execution_count": 9,
   "metadata": {},
   "outputs": [],
   "source": [
    "parameters={\n",
    "    \"W1\":W1,\n",
    "    \"W2\":W2,\n",
    "    \"b1\":b1,\n",
    "    \"b2\":b2\n",
    "}\n",
    "torch.save(parameters,'MLP_dropmodel.pt')"
   ]
  },
  {
   "cell_type": "markdown",
   "metadata": {},
   "source": [
    "## Loss Curves"
   ]
  },
  {
   "cell_type": "code",
   "execution_count": 10,
   "metadata": {},
   "outputs": [
    {
     "data": {
      "image/png": "[encoded data removed]",
      "text/plain": [
       "<Figure size 640x480 with 1 Axes>"
      ]
     },
     "metadata": {},
     "output_type": "display_data"
    }
   ],
   "source": [
    "plt.plot(loss_list_train,label='train')\n",
    "plt.plot(loss_list_test,label='test')\n",
    "plt.title(\"Loss vs Epoch\")\n",
    "plt.xlabel('epochs')\n",
    "plt.ylabel('Loss')\n",
    "plt.legend()\n",
    "plt.show()"
   ]
  },
  {
   "cell_type": "markdown",
   "metadata": {},
   "source": [
    "## Load the Model"
   ]
  },
  {
   "cell_type": "code",
   "execution_count": 13,
   "metadata": {},
   "outputs": [
    {
     "data": {
      "text/plain": [
       "dict_keys(['W1', 'W2', 'b1', 'b2'])"
      ]
     },
     "execution_count": 13,
     "metadata": {},
     "output_type": "execute_result"
    }
   ],
   "source": [
    "params=torch.load('MLP_dropmodel.pt')\n",
    "params.keys()"
   ]
  },
  {
   "cell_type": "markdown",
   "metadata": {},
   "source": [
    "## Train Test Accuracy"
   ]
  },
  {
   "cell_type": "code",
   "execution_count": 14,
   "metadata": {},
   "outputs": [
    {
     "name": "stdout",
     "output_type": "stream",
     "text": [
      "Train Accuracy:  76.58%      \n",
      "Test Accuracy:  75.61%\n"
     ]
    }
   ],
   "source": [
    "# train accuracy\n",
    "Z1_etrain=X_etrain@params['W1']+params['b1']\n",
    "A1_train=torch.relu(Z1_etrain)\n",
    "Z2_etrain=A1_train@params['W2'] + params['b2']\n",
    "Y_hat_etrain=softmax(Z2_etrain)\n",
    "y_pred_etrain=torch.argmax(Y_hat_etrain,dim=1,keepdim=True)\n",
    "\n",
    "train_acc=torch.sum(Y_etrain==y_pred_etrain)/Y_etrain.shape[0]\n",
    "\n",
    "\n",
    "# test accuracy\n",
    "Z1_etest=X_etest@params['W1']+params['b1']\n",
    "A1=torch.relu(Z1_etest)\n",
    "Z2_etest=A1@params['W2'] + params['b2']\n",
    "Y_hat_etest=softmax(Z2_etest)\n",
    "y_pred_etest=torch.argmax(Y_hat_etest,dim=1,keepdim=True)\n",
    "\n",
    "test_acc=torch.sum(Y_etest==y_pred_etest)/Y_etest.shape[0]\n",
    "\n",
    "print(f\"Train Accuracy: {train_acc*100: .2f}%\\\n",
    "      \\nTest Accuracy: {test_acc*100: .2f}%\")"
   ]
  }
 ],
 "metadata": {
  "kernelspec": {
   "display_name": "bajra",
   "language": "python",
   "name": "python3"
  },
  "language_info": {
   "codemirror_mode": {
    "name": "ipython",
    "version": 3
   },
   "file_extension": ".py",
   "mimetype": "text/x-python",
   "name": "python",
   "nbconvert_exporter": "python",
   "pygments_lexer": "ipython3",
   "version": "3.12.3"
  }
 },
 "nbformat": 4,
 "nbformat_minor": 2
}
