{
 "cells": [
  {
   "cell_type": "code",
   "execution_count": 1,
   "metadata": {},
   "outputs": [
    {
     "name": "stderr",
     "output_type": "stream",
     "text": [
      "/home/bikasherl/miniconda3/envs/bajra/lib/python3.12/site-packages/torch/cuda/__init__.py:619: UserWarning: Can't initialize NVML\n",
      "  warnings.warn(\"Can't initialize NVML\")\n"
     ]
    }
   ],
   "source": [
    "import torch\n",
    "import torchvision\n",
    "from torch.utils.data import DataLoader\n",
    "from torchvision.datasets import MNIST,EMNIST\n",
    "from torchvision.transforms import ToTensor\n",
    "import matplotlib.pyplot as plt\n",
    "import torch.nn as nn"
   ]
  },
  {
   "cell_type": "code",
   "execution_count": 2,
   "metadata": {},
   "outputs": [
    {
     "data": {
      "text/plain": [
       "(Dataset EMNIST\n",
       "     Number of datapoints: 112800\n",
       "     Root location: emnist_dataset/train/\n",
       "     Split: Train\n",
       "     StandardTransform\n",
       " Transform: ToTensor(),\n",
       " Dataset EMNIST\n",
       "     Number of datapoints: 18800\n",
       "     Root location: emnist_dataset/test/\n",
       "     Split: Test\n",
       "     StandardTransform\n",
       " Transform: ToTensor())"
      ]
     },
     "execution_count": 2,
     "metadata": {},
     "output_type": "execute_result"
    }
   ],
   "source": [
    "train_edata=EMNIST(root='emnist_dataset/train/',split='balanced',train=True,download=True,transform=ToTensor())\n",
    "test_edata=EMNIST(root='emnist_dataset/test/',split='balanced',train=False,download=True,transform=ToTensor())\n",
    "train_edata,test_edata"
   ]
  },
  {
   "cell_type": "markdown",
   "metadata": {},
   "source": [
    "## Making Dataloader"
   ]
  },
  {
   "cell_type": "code",
   "execution_count": 3,
   "metadata": {},
   "outputs": [
    {
     "data": {
      "text/plain": [
       "(<torch.utils.data.dataloader.DataLoader at 0x7a2058e41430>,\n",
       " <torch.utils.data.dataloader.DataLoader at 0x7a2058df5ee0>)"
      ]
     },
     "execution_count": 3,
     "metadata": {},
     "output_type": "execute_result"
    }
   ],
   "source": [
    "train_dataloader=DataLoader(train_edata,256,shuffle=True,num_workers=4)\n",
    "test_dataloader=DataLoader(test_edata,256,shuffle=True,num_workers=4)\n",
    "\n",
    "train_dataloader,test_dataloader"
   ]
  },
  {
   "cell_type": "markdown",
   "metadata": {},
   "source": [
    "## Extracting Number of Input Features and Number of Output Classes"
   ]
  },
  {
   "cell_type": "code",
   "execution_count": 4,
   "metadata": {},
   "outputs": [
    {
     "name": "stdout",
     "output_type": "stream",
     "text": [
      "Number of input features: 784      \n",
      "Number of output classes: 47\n"
     ]
    }
   ],
   "source": [
    "img,label=next(iter(train_dataloader))\n",
    "\n",
    "num_input_feat=(img.squeeze(1).flatten(1,2)).shape[1]\n",
    "num_output=len(train_edata.class_to_idx)\n",
    "\n",
    "print(f\"Number of input features: {num_input_feat}\\\n",
    "      \\nNumber of output classes: {num_output}\")"
   ]
  },
  {
   "cell_type": "markdown",
   "metadata": {},
   "source": [
    "## Buiding a Model"
   ]
  },
  {
   "cell_type": "code",
   "execution_count": 5,
   "metadata": {},
   "outputs": [],
   "source": [
    "class Layernorm(nn.Module):\n",
    "\n",
    "    def __init__(self,num_input_feat,num_output):\n",
    "        \n",
    "        super().__init__()\n",
    "        self.num_input_feat=num_input_feat\n",
    "        self.num_output=num_output\n",
    "        self.num_hidden=128\n",
    "\n",
    "        self.model=nn.Sequential(\n",
    "        nn.Linear(self.num_input_feat,self.num_hidden),\n",
    "        nn.Tanh(),\n",
    "        nn.LayerNorm(self.num_hidden),\n",
    "        nn.Linear(self.num_hidden,self.num_output),\n",
    "        )\n",
    "        \n",
    "    def forward(self,x):\n",
    "        return self.model(x)\n"
   ]
  },
  {
   "cell_type": "code",
   "execution_count": 6,
   "metadata": {},
   "outputs": [
    {
     "data": {
      "text/plain": [
       "Layernorm(\n",
       "  (model): Sequential(\n",
       "    (0): Linear(in_features=784, out_features=128, bias=True)\n",
       "    (1): Tanh()\n",
       "    (2): LayerNorm((128,), eps=1e-05, elementwise_affine=True)\n",
       "    (3): Linear(in_features=128, out_features=47, bias=True)\n",
       "  )\n",
       ")"
      ]
     },
     "execution_count": 6,
     "metadata": {},
     "output_type": "execute_result"
    }
   ],
   "source": [
    "model1=Layernorm(num_input_feat,num_output)\n",
    "model1"
   ]
  },
  {
   "cell_type": "markdown",
   "metadata": {},
   "source": [
    "## Loss Function and Optimizer"
   ]
  },
  {
   "cell_type": "code",
   "execution_count": 8,
   "metadata": {},
   "outputs": [],
   "source": [
    "loss_fn=nn.CrossEntropyLoss()\n",
    "optimizer=torch.optim.Adam(params=model1.parameters(),lr=0.01)"
   ]
  },
  {
   "cell_type": "code",
   "execution_count": 9,
   "metadata": {},
   "outputs": [],
   "source": [
    "loss_train_mean=[]\n",
    "loss_test_mean=[]"
   ]
  },
  {
   "cell_type": "code",
   "execution_count": 10,
   "metadata": {},
   "outputs": [],
   "source": [
    "for epoch in range(30):\n",
    "    loss_list_train=[]\n",
    "    loss_list_test=[]\n",
    "    for img,label in train_dataloader:\n",
    "        model1.train()\n",
    "\n",
    "        out=model1((img.squeeze(1).flatten(1,2))/255)\n",
    "        # logits=(torch.softmax(out,dim=1)).argmax(dim=1)\n",
    "\n",
    "        loss=loss_fn(out,label)\n",
    "        loss_list_train.append(loss.item())\n",
    "\n",
    "        loss.backward()\n",
    "\n",
    "        optimizer.step()\n",
    "        optimizer.zero_grad()\n",
    "    \n",
    "    model1.eval()\n",
    "    for img_test,label_test in test_dataloader:\n",
    "        test_out=model1((img_test.squeeze(1).flatten(1,2))/255)\n",
    "        loss_test=loss_fn(test_out,label_test)\n",
    "        loss_list_test.append(loss_test.item())\n",
    "\n",
    "\n",
    "    loss_train_mean.append(sum(loss_list_train)/len(loss_list_train))\n",
    "    loss_test_mean.append(sum(loss_list_test)/len(loss_list_test))\n"
   ]
  },
  {
   "cell_type": "markdown",
   "metadata": {},
   "source": [
    "## Saving the Model"
   ]
  },
  {
   "cell_type": "code",
   "execution_count": 11,
   "metadata": {},
   "outputs": [],
   "source": [
    "torch.save(model1.state_dict(), 'layernorm_lib.pt')"
   ]
  },
  {
   "cell_type": "code",
   "execution_count": 12,
   "metadata": {},
   "outputs": [
    {
     "data": {
      "image/png": "[encoded data removed]",
      "text/plain": [
       "<Figure size 640x480 with 1 Axes>"
      ]
     },
     "metadata": {},
     "output_type": "display_data"
    }
   ],
   "source": [
    "plt.plot(loss_train_mean,label='train')\n",
    "plt.plot(loss_test_mean,label='test')\n",
    "plt.xlabel(\"epochs\")\n",
    "plt.ylabel('Loss')\n",
    "plt.title(\"Train-Test Loss Curve\")\n",
    "plt.legend()\n",
    "plt.show()"
   ]
  },
  {
   "cell_type": "markdown",
   "metadata": {},
   "source": [
    "## Loading the Model\n"
   ]
  },
  {
   "cell_type": "code",
   "execution_count": 7,
   "metadata": {},
   "outputs": [
    {
     "data": {
      "text/plain": [
       "Layernorm(\n",
       "  (model): Sequential(\n",
       "    (0): Linear(in_features=784, out_features=128, bias=True)\n",
       "    (1): Tanh()\n",
       "    (2): LayerNorm((128,), eps=1e-05, elementwise_affine=True)\n",
       "    (3): Linear(in_features=128, out_features=47, bias=True)\n",
       "  )\n",
       ")"
      ]
     },
     "execution_count": 7,
     "metadata": {},
     "output_type": "execute_result"
    }
   ],
   "source": [
    "model1.load_state_dict(torch.load('layernorm_lib.pt'))\n",
    "model1.eval()"
   ]
  },
  {
   "cell_type": "markdown",
   "metadata": {},
   "source": [
    "## Train-Test Accuracy"
   ]
  },
  {
   "cell_type": "code",
   "execution_count": 8,
   "metadata": {},
   "outputs": [],
   "source": [
    "X_etrain=torch.flatten(train_edata.data,1,2).to(torch.float32)\n",
    "Y_etrain=(train_edata.targets.reshape(X_etrain.shape[0],1).to(torch.int8))\n",
    "\n",
    "\n",
    "out=model1(X_etrain/255)\n",
    "prediction_train=(torch.softmax(out,dim=1)).argmax(dim=1)\n",
    "\n",
    "# \n",
    "# train_accuracy\n",
    "\n"
   ]
  },
  {
   "cell_type": "code",
   "execution_count": 9,
   "metadata": {},
   "outputs": [
    {
     "data": {
      "text/plain": [
       "tensor(0.4322)"
      ]
     },
     "execution_count": 9,
     "metadata": {},
     "output_type": "execute_result"
    }
   ],
   "source": [
    "train_accuracy=torch.sum(torch.where(prediction_train==train_edata.targets,1,0))/Y_etrain.shape[0]\n",
    "train_accuracy"
   ]
  }
 ],
 "metadata": {
  "kernelspec": {
   "display_name": "bajra",
   "language": "python",
   "name": "python3"
  },
  "language_info": {
   "codemirror_mode": {
    "name": "ipython",
    "version": 3
   },
   "file_extension": ".py",
   "mimetype": "text/x-python",
   "name": "python",
   "nbconvert_exporter": "python",
   "pygments_lexer": "ipython3",
   "version": "3.12.3"
  }
 },
 "nbformat": 4,
 "nbformat_minor": 2
}
