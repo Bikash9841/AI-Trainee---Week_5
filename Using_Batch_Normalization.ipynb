{
 "cells": [
  {
   "cell_type": "code",
   "execution_count": 1,
   "metadata": {},
   "outputs": [
    {
     "name": "stderr",
     "output_type": "stream",
     "text": [
      "/home/bikasherl/miniconda3/envs/bajra/lib/python3.12/site-packages/torch/cuda/__init__.py:619: UserWarning: Can't initialize NVML\n",
      "  warnings.warn(\"Can't initialize NVML\")\n"
     ]
    }
   ],
   "source": [
    "import torch\n",
    "import torchvision\n",
    "from torchvision.datasets import MNIST,EMNIST\n",
    "from torchvision.transforms import ToTensor\n",
    "import matplotlib.pyplot as plt"
   ]
  },
  {
   "cell_type": "markdown",
   "metadata": {},
   "source": [
    "## Loading EMNIST Dataset"
   ]
  },
  {
   "cell_type": "code",
   "execution_count": 2,
   "metadata": {},
   "outputs": [
    {
     "data": {
      "text/plain": [
       "(Dataset EMNIST\n",
       "     Number of datapoints: 112800\n",
       "     Root location: emnist_dataset/train/\n",
       "     Split: Train\n",
       "     StandardTransform\n",
       " Transform: ToTensor(),\n",
       " Dataset EMNIST\n",
       "     Number of datapoints: 18800\n",
       "     Root location: emnist_dataset/test/\n",
       "     Split: Test\n",
       "     StandardTransform\n",
       " Transform: ToTensor())"
      ]
     },
     "execution_count": 2,
     "metadata": {},
     "output_type": "execute_result"
    }
   ],
   "source": [
    "train_edata=EMNIST(root='emnist_dataset/train/',split='balanced',train=True,download=True,transform=ToTensor())\n",
    "test_edata=EMNIST(root='emnist_dataset/test/',split='balanced',train=False,download=True,transform=ToTensor())\n",
    "train_edata,test_edata"
   ]
  },
  {
   "cell_type": "markdown",
   "metadata": {},
   "source": [
    "## Preparing Training and Test Set"
   ]
  },
  {
   "cell_type": "code",
   "execution_count": 3,
   "metadata": {},
   "outputs": [
    {
     "data": {
      "text/plain": [
       "(torch.Size([112800, 784]),\n",
       " torch.Size([112800, 1]),\n",
       " torch.Size([18800, 784]),\n",
       " torch.Size([18800, 1]))"
      ]
     },
     "execution_count": 3,
     "metadata": {},
     "output_type": "execute_result"
    }
   ],
   "source": [
    "#train set\n",
    "X_etrain=torch.flatten(train_edata.data,1,2).to(torch.float64)\n",
    "Y_etrain=train_edata.targets.reshape(X_etrain.shape[0],1).to(torch.int8)\n",
    "\n",
    "X_etrain.shape,Y_etrain.shape\n",
    "\n",
    "# test set\n",
    "X_etest=torch.flatten(test_edata.data,1,2).to(torch.float64)\n",
    "Y_etest=test_edata.targets.reshape(X_etest.shape[0],1).to(torch.int8)\n",
    "\n",
    "X_etrain.shape,Y_etrain.shape,X_etest.shape,Y_etest.shape"
   ]
  },
  {
   "cell_type": "code",
   "execution_count": 4,
   "metadata": {},
   "outputs": [],
   "source": [
    "# scaling train dataset\n",
    "for i in range(X_etrain.shape[0]):\n",
    "    X_etrain[i]=(X_etrain[i]-X_etrain[i].min())/(X_etrain[i].max()-X_etrain[i].min())\n",
    "\n",
    "\n",
    "# scaling test dataset\n",
    "for i in range(X_etest.shape[0]):\n",
    "    X_etest[i]=(X_etest[i]-X_etest[i].min())/(X_etest[i].max()-X_etest[i].min())"
   ]
  },
  {
   "cell_type": "code",
   "execution_count": 5,
   "metadata": {},
   "outputs": [
    {
     "data": {
      "text/plain": [
       "(torch.Size([112800, 47]), torch.Size([18800, 47]))"
      ]
     },
     "execution_count": 5,
     "metadata": {},
     "output_type": "execute_result"
    }
   ],
   "source": [
    "## One hot encoding For the labels\n",
    "\n",
    "Y_enc_etrain=torch.zeros((Y_etrain.shape[0],len(train_edata.classes))).to(torch.int8)\n",
    "\n",
    "for i in range(Y_etrain.shape[0]):\n",
    "    Y_enc_etrain[i][Y_etrain[i].item()]=1\n",
    "\n",
    "\n",
    "Y_enc_etest=torch.zeros((Y_etest.shape[0],len(test_edata.classes))).to(torch.int8)\n",
    "\n",
    "for i in range(Y_etest.shape[0]):\n",
    "    Y_enc_etest[i][Y_etest[i].item()]=1\n",
    "\n",
    "\n",
    "Y_enc_etrain.shape,Y_enc_etest.shape"
   ]
  },
  {
   "cell_type": "markdown",
   "metadata": {},
   "source": [
    "## Weight and Bias Initialization"
   ]
  },
  {
   "cell_type": "code",
   "execution_count": 6,
   "metadata": {},
   "outputs": [
    {
     "name": "stdout",
     "output_type": "stream",
     "text": [
      "shape- W1: torch.Size([784, 128])       \n",
      "shape- b1: torch.Size([1, 128])      \n",
      "shape- W2: torch.Size([128, 47])      \n",
      "shape- b2: torch.Size([1, 47])\n"
     ]
    }
   ],
   "source": [
    "# torch.manual_seed(42)\n",
    "\n",
    "num_input=X_etrain.shape[1]\n",
    "num_hidden=128\n",
    "\n",
    "\n",
    "# kaiming weight initialization\n",
    "W1=torch.randn((num_input,num_hidden),dtype=torch.float64,requires_grad=True)*torch.sqrt(torch.tensor(2/num_input))\n",
    "b1=torch.randn((1,num_hidden),dtype=torch.float64,requires_grad=True)*torch.sqrt(torch.tensor(2/num_input))\n",
    "\n",
    "W2=torch.randn((num_hidden,Y_enc_etrain.shape[1]),dtype=torch.float64,requires_grad=True)*torch.sqrt(torch.tensor(2/num_hidden))\n",
    "b2=torch.randn((1,Y_enc_etrain.shape[1]),dtype=torch.float64,requires_grad=True)*torch.sqrt(torch.tensor(2/num_hidden))\n",
    "\n",
    "\n",
    "print(f\"shape- W1: {W1.shape}\\\n",
    "       \\nshape- b1: {b1.shape}\\\n",
    "      \\nshape- W2: {W2.shape}\\\n",
    "      \\nshape- b2: {b2.shape}\")"
   ]
  },
  {
   "cell_type": "markdown",
   "metadata": {},
   "source": [
    "## Utility Functions"
   ]
  },
  {
   "cell_type": "code",
   "execution_count": 7,
   "metadata": {},
   "outputs": [],
   "source": [
    "def softmax(Z):\n",
    "    return (torch.exp(Z)/torch.sum(torch.exp(Z),dim=1,keepdim=True))\n",
    "\n",
    "def categorical_cross_entropy(Y_enc_train,Y_hat):\n",
    "    return torch.sum((-Y_enc_train*torch.log(Y_hat)),dim=1,keepdim=True).mean()"
   ]
  },
  {
   "cell_type": "code",
   "execution_count": 8,
   "metadata": {},
   "outputs": [],
   "source": [
    "#check manually calculated gradients with that of pytorch autograd\n",
    "def cmp(s, dt, t):\n",
    "  ex = torch.all(dt == t.grad).item()\n",
    "  app = torch.allclose(dt, t.grad)\n",
    "  maxdiff = (dt - t.grad).abs().max().item()\n",
    "  print(f'{s:15s} | exact: {str(ex):5s} | approximate: {str(app):5s} | maxdiff: {maxdiff}')"
   ]
  },
  {
   "cell_type": "markdown",
   "metadata": {},
   "source": [
    "## Gamma and Beta Initialization"
   ]
  },
  {
   "cell_type": "code",
   "execution_count": 9,
   "metadata": {},
   "outputs": [
    {
     "data": {
      "text/plain": [
       "(torch.Size([160, 784]), torch.Size([160, 47]))"
      ]
     },
     "execution_count": 9,
     "metadata": {},
     "output_type": "execute_result"
    }
   ],
   "source": [
    "batch_size=160\n",
    "\n",
    "# a single batch\n",
    "X_btrain=X_etrain[:batch_size,:]\n",
    "Y_btrain=Y_enc_etrain[:batch_size,:]\n",
    "\n",
    "gamma=torch.randn((1,num_hidden),requires_grad=True,dtype=torch.float64)\n",
    "beta=torch.randn((1,num_hidden),requires_grad=True,dtype=torch.float64)\n",
    "\n",
    "X_btrain.shape,Y_btrain.shape\n",
    "\n"
   ]
  },
  {
   "cell_type": "markdown",
   "metadata": {},
   "source": [
    "## Validating Manual Backpropagation by Comparing with `torch.autograd`"
   ]
  },
  {
   "cell_type": "code",
   "execution_count": 10,
   "metadata": {},
   "outputs": [],
   "source": [
    "# first layer\n",
    "Z1=X_btrain@W1 + b1\n",
    "A1=torch.tanh(Z1)\n",
    "\n",
    "A1_mean=A1.sum(dim=0,keepdim=True)/A1.shape[0]\n",
    "A1_std=(torch.sqrt(torch.sum(((A1-A1_mean)**2),dim=0,keepdim=True)/A1.shape[0])) \n",
    "# A1_std=A1.std(dim=0,keepdim=True)\n",
    "A1_norm=(A1-A1_mean)/(A1_std)   \n",
    "\n",
    "# batch normalization\n",
    "A2=A1_norm*gamma+beta\n",
    "\n",
    "# output layer\n",
    "Z2=A2@W2 + b2\n",
    "Y_ehat=softmax(Z2)\n",
    "\n",
    "# Loss=categorical_cross_entropy(Y_btrain,Y_ehat)\n",
    "Loss=torch.sum((-Y_btrain*torch.log(Y_ehat)),dim=1,keepdim=True).mean()\n",
    "\n",
    "# backpropgation\n",
    "\n",
    "dL_dZ2=(Y_ehat-Y_btrain)/X_btrain.shape[0]\n",
    "dZ2_dW2=A2\n",
    "\n",
    "dL_dW2=dZ2_dW2.T@dL_dZ2\n",
    "dL_db2=torch.sum(dL_dZ2,dim=0,keepdim=True)\n",
    "\n",
    "\n",
    "dZ2_dA2=W2\n",
    "dL_dA2= dL_dZ2 @ dZ2_dA2.T\n",
    "\n",
    "dA2_dgamma=A1_norm\n",
    "dL_dgamma=torch.sum(dL_dA2*dA2_dgamma,dim=0,keepdim=True)\n",
    "dL_dbeta=torch.sum(dL_dA2,dim=0,keepdim=True)\n",
    "\n",
    "dA2_dA1_norm=gamma  \n",
    "dL_dA1_norm=dL_dA2*dA2_dA1_norm    \n",
    "\n",
    "dA1_norm_dA1_std= -(A1-A1_mean)*(A1_std**-2)\n",
    "dA1_norm_dA1_mean=-(A1_std**-1)\n",
    "dA1_norm_dA1=A1_std**-1\n",
    "\n",
    "dA1_std_dA1_mean=((1/(A1.shape[0]**(1/2)))*(((torch.sum(((A1-A1_mean)**2),dim=0,keepdim=True)))**(-0.5))*(A1-A1_mean)*-1)\n",
    "dA1_std_dA1=(1/(A1.shape[0]**(1/2)))*(((torch.sum(((A1-A1_mean)**2),dim=0,keepdim=True)))**(-0.5))*(A1-A1_mean)\n",
    "\n",
    "\n",
    "dL_dA1_std=torch.sum(dL_dA1_norm*dA1_norm_dA1_std,dim=0,keepdim=True)   \n",
    "\n",
    "dL_dA1_mean=torch.sum(dA1_norm_dA1_mean*dL_dA1_norm,dim=0,keepdim=True) \n",
    "dL_dA1_mean+=torch.sum(dA1_std_dA1_mean*dL_dA1_std,dim=0,keepdim=True)\n",
    "\n",
    "\n",
    "dA1_mean_dA1=(torch.ones_like(A1)/A1.shape[0])\n",
    "\n",
    "dL_dA1=dA1_norm_dA1*dL_dA1_norm\n",
    "dL_dA1+=dA1_std_dA1*dL_dA1_std\n",
    "dL_dA1+=(1/A1.shape[0])*dL_dA1_mean\n",
    "\n",
    "\n",
    "# dA1_dZ1=torch.where((Z1<0),0, 1)\n",
    "dA1_dZ1=(1-(torch.tanh(Z1))**2)\n",
    "\n",
    "dL_dZ1=(dA1_dZ1 * dL_dA1)\n",
    "\n",
    "dZ1_dW1=X_btrain\n",
    "\n",
    "dL_dW1=dZ1_dW1.T @ dL_dZ1\n",
    "dL_db1=torch.sum(dL_dZ1,dim=0,keepdim=True)\n",
    "\n",
    "for each in [Z2,A2,A1_norm,gamma,beta,A1_std,A1_mean,W1,W2,b1,b2,A1,Z1]:\n",
    "    each.retain_grad()\n"
   ]
  },
  {
   "cell_type": "code",
   "execution_count": 11,
   "metadata": {},
   "outputs": [],
   "source": [
    "Loss.backward()"
   ]
  },
  {
   "cell_type": "code",
   "execution_count": 12,
   "metadata": {},
   "outputs": [
    {
     "name": "stdout",
     "output_type": "stream",
     "text": [
      "dZ2             | exact: False | approximate: True  | maxdiff: 1.734723475976807e-18\n",
      "dW2             | exact: False | approximate: True  | maxdiff: 8.326672684688674e-17\n",
      "db2             | exact: False | approximate: True  | maxdiff: 2.7755575615628914e-17\n",
      "dA2             | exact: False | approximate: True  | maxdiff: 1.0842021724855044e-18\n",
      "dgamma          | exact: False | approximate: True  | maxdiff: 6.938893903907228e-18\n",
      "dbeta           | exact: False | approximate: True  | maxdiff: 2.7755575615628914e-17\n",
      "dA1_norm        | exact: False | approximate: True  | maxdiff: 1.734723475976807e-18\n",
      "dA1_std         | exact: False | approximate: True  | maxdiff: 5.551115123125783e-17\n",
      "dA1_mean        | exact: False | approximate: True  | maxdiff: 5.551115123125783e-17\n",
      "dA1             | exact: False | approximate: True  | maxdiff: 6.938893903907228e-18\n",
      "dZ1             | exact: False | approximate: True  | maxdiff: 5.204170427930421e-18\n",
      "dW1             | exact: False | approximate: True  | maxdiff: 9.020562075079397e-17\n",
      "db1             | exact: False | approximate: True  | maxdiff: 1.0408340855860843e-16\n"
     ]
    }
   ],
   "source": [
    "cmp(\"dZ2\", dL_dZ2, Z2)\n",
    "cmp(\"dW2\", dL_dW2, W2)\n",
    "cmp(\"db2\", dL_db2, b2)\n",
    "cmp(\"dA2\", dL_dA2, A2)\n",
    "cmp(\"dgamma\", dL_dgamma, gamma)\n",
    "cmp(\"dbeta\", dL_dbeta, beta)\n",
    "cmp(\"dA1_norm\", dL_dA1_norm, A1_norm)\n",
    "cmp(\"dA1_std\", dL_dA1_std, A1_std)\n",
    "cmp(\"dA1_mean\", dL_dA1_mean, A1_mean)\n",
    "cmp(\"dA1\", dL_dA1, A1)\n",
    "cmp(\"dZ1\", dL_dZ1, Z1)\n",
    "cmp(\"dW1\", dL_dW1, W1)\n",
    "cmp(\"db1\", dL_db1, b1)"
   ]
  },
  {
   "cell_type": "markdown",
   "metadata": {},
   "source": [
    "## Training the Model with Batch Normalization"
   ]
  },
  {
   "cell_type": "code",
   "execution_count": 13,
   "metadata": {},
   "outputs": [],
   "source": [
    "loss_list_train=[]\n",
    "loss_list_test=[]"
   ]
  },
  {
   "cell_type": "code",
   "execution_count": 14,
   "metadata": {},
   "outputs": [],
   "source": [
    "A1_test_mean=0\n",
    "A1_test_std=0\n",
    "alpha=0.01\n",
    "\n",
    "for i in range(100):\n",
    "    idx=0\n",
    "    for batch in range(torch.tensor(int(X_etrain.shape[0]/batch_size))):\n",
    "\n",
    "        X_btrain=X_etrain[idx:batch_size+idx,:]\n",
    "        Y_btrain=Y_enc_etrain[idx:batch_size+idx,:]\n",
    "\n",
    "        idx=idx+batch_size\n",
    "\n",
    "        # first layer\n",
    "        Z1=X_btrain@W1 + b1\n",
    "        A1=torch.tanh(Z1)\n",
    "\n",
    "        A1_mean=A1.sum(dim=0,keepdim=True)/A1.shape[0]\n",
    "        A1_std=(torch.sqrt(torch.sum(((A1-A1_mean)**2),dim=0,keepdim=True)/A1.shape[0]))\n",
    "        # A1_std=A1.std(dim=0,keepdim=True)\n",
    "        A1_norm=(A1-A1_mean)/(A1_std)   \n",
    "\n",
    "        # batch normalization\n",
    "        A2=A1_norm*gamma+beta\n",
    "\n",
    "        # output layer\n",
    "        Z2=A2@W2 + b2\n",
    "        Y_ehat=softmax(Z2)\n",
    "\n",
    "        # Loss=categorical_cross_entropy(Y_btrain,Y_ehat)\n",
    "        Loss=torch.sum((-Y_btrain*torch.log(Y_ehat)),dim=1,keepdim=True).mean()\n",
    "\n",
    "        # backpropgation\n",
    "        with torch.no_grad():\n",
    "            dL_dZ2=(Y_ehat-Y_btrain)/X_btrain.shape[0]\n",
    "            dZ2_dW2=A2\n",
    "\n",
    "            dL_dW2=dZ2_dW2.T@dL_dZ2\n",
    "            dL_db2=torch.sum(dL_dZ2,dim=0,keepdim=True)\n",
    "\n",
    "\n",
    "            dZ2_dA2=W2\n",
    "            dL_dA2= dL_dZ2 @ dZ2_dA2.T\n",
    "\n",
    "            dA2_dgamma=A1_norm\n",
    "            dL_dgamma=torch.sum(dL_dA2*dA2_dgamma,dim=0,keepdim=True)\n",
    "            dL_dbeta=torch.sum(dL_dA2,dim=0,keepdim=True)\n",
    "\n",
    "            dA2_dA1_norm=gamma  \n",
    "            dL_dA1_norm=dL_dA2*dA2_dA1_norm    \n",
    "\n",
    "            dA1_norm_dA1_std= -(A1-A1_mean)*(A1_std**-2)\n",
    "            dA1_norm_dA1_mean=-(A1_std**-1)\n",
    "            dA1_norm_dA1=A1_std**-1\n",
    "\n",
    "            dA1_std_dA1_mean=((1/(A1.shape[0]**(1/2)))*(((torch.sum(((A1-A1_mean)**2),dim=0,keepdim=True)))**(-0.5))*(A1-A1_mean)*-1)\n",
    "            dA1_std_dA1=(1/(A1.shape[0]**(1/2)))*(((torch.sum(((A1-A1_mean)**2),dim=0,keepdim=True)))**(-0.5))*(A1-A1_mean)\n",
    "\n",
    "\n",
    "            dL_dA1_std=torch.sum(dL_dA1_norm*dA1_norm_dA1_std,dim=0,keepdim=True)   \n",
    "\n",
    "            dL_dA1_mean=torch.sum(dA1_norm_dA1_mean*dL_dA1_norm,dim=0,keepdim=True) \n",
    "            dL_dA1_mean+=torch.sum(dA1_std_dA1_mean*dL_dA1_std,dim=0,keepdim=True)\n",
    "\n",
    "\n",
    "            dA1_mean_dA1=(torch.ones_like(A1)/A1.shape[0])\n",
    "\n",
    "            dL_dA1=dA1_norm_dA1*dL_dA1_norm\n",
    "            dL_dA1+=dA1_std_dA1*dL_dA1_std\n",
    "            dL_dA1+=(1/A1.shape[0])*dL_dA1_mean\n",
    "\n",
    "\n",
    "            # dA1_dZ1=torch.where((Z1<0),0, 1)\n",
    "            dA1_dZ1=(1-(torch.tanh(Z1))**2)\n",
    "\n",
    "            dL_dZ1=(dA1_dZ1 * dL_dA1)\n",
    "\n",
    "            dZ1_dW1=X_btrain\n",
    "\n",
    "            dL_dW1=dZ1_dW1.T @ dL_dZ1\n",
    "            dL_db1=torch.sum(dL_dZ1,dim=0,keepdim=True)\n",
    "\n",
    "            A1_test_mean=alpha*A1_test_mean+(1-alpha)*A1_mean\n",
    "            A1_test_std=alpha*A1_test_std+(1-alpha)*A1_std\n",
    "\n",
    "            \n",
    "        # weights and biases optimization\n",
    "            W2-=0.01*dL_dW2\n",
    "            b2-=0.01*dL_db2\n",
    "            W1-=0.01*dL_dW1\n",
    "            b1-=0.01*dL_db1\n",
    "            gamma-=0.01*dL_dgamma\n",
    "            beta-=0.01*dL_dbeta\n",
    "\n",
    "\n",
    "    # Test first layer\n",
    "    Z1_test=X_etest@W1 + b1\n",
    "    A1_test=torch.tanh(Z1_test)\n",
    "    A1_norm_test=(A1_test-A1_test_mean)/(A1_test_std)   \n",
    "\n",
    "    # batch normalization\n",
    "    A2_test=A1_norm_test*gamma+beta\n",
    "\n",
    "    # output layer\n",
    "    Z2_test=A2_test@W2 + b2\n",
    "    Y_ehat_test=softmax(Z2_test)\n",
    "\n",
    "    Loss_test=torch.sum((-Y_enc_etest*torch.log(Y_ehat_test)),dim=1,keepdim=True).mean()\n",
    "\n",
    "    loss_list_train.append(Loss.item())\n",
    "    loss_list_test.append(Loss_test.item())\n",
    "\n"
   ]
  },
  {
   "cell_type": "markdown",
   "metadata": {},
   "source": [
    "## Saving the Model's Learnt Parameters"
   ]
  },
  {
   "cell_type": "code",
   "execution_count": 15,
   "metadata": {},
   "outputs": [],
   "source": [
    "parameters={\n",
    "    \"W1\":W1,\n",
    "    \"W2\":W2,\n",
    "    \"b1\":b1,\n",
    "    \"b2\":b2,\n",
    "    \"gamma\":gamma,\n",
    "    \"beta\": beta,\n",
    "    \"l1_mean\":A1_test_mean,\n",
    "    \"l1_std\":A1_test_std\n",
    "}\n",
    "torch.save(parameters,'batchnorm_model.pt')"
   ]
  },
  {
   "cell_type": "code",
   "execution_count": 16,
   "metadata": {},
   "outputs": [
    {
     "data": {
      "image/png": "[encoded data removed]",
      "text/plain": [
       "<Figure size 640x480 with 1 Axes>"
      ]
     },
     "metadata": {},
     "output_type": "display_data"
    }
   ],
   "source": [
    "plt.plot(loss_list_train,label='train')\n",
    "plt.plot(loss_list_test,label='test')\n",
    "plt.title(\"Loss vs Epoch\")\n",
    "plt.xlabel(\"epochs\")\n",
    "plt.ylabel(\"Loss\")\n",
    "plt.legend()\n",
    "plt.show()"
   ]
  },
  {
   "cell_type": "markdown",
   "metadata": {},
   "source": [
    "## Loading the Model"
   ]
  },
  {
   "cell_type": "code",
   "execution_count": 17,
   "metadata": {},
   "outputs": [
    {
     "data": {
      "text/plain": [
       "dict_keys(['W1', 'W2', 'b1', 'b2', 'gamma', 'beta', 'l1_mean', 'l1_std'])"
      ]
     },
     "execution_count": 17,
     "metadata": {},
     "output_type": "execute_result"
    }
   ],
   "source": [
    "params=torch.load('batchnorm_model.pt')\n",
    "params.keys()"
   ]
  },
  {
   "cell_type": "markdown",
   "metadata": {},
   "source": [
    "## Train and Test Set Prediction"
   ]
  },
  {
   "cell_type": "code",
   "execution_count": 18,
   "metadata": {},
   "outputs": [
    {
     "name": "stdout",
     "output_type": "stream",
     "text": [
      "Whole Train Accuracy:  86.13%\n",
      "Whole Test Accuracy:  81.46%\n"
     ]
    }
   ],
   "source": [
    "# last batch train accuracy\n",
    "# train_batch_accuracy=torch.sum(torch.where(Y_ehat.argmax(dim=1)==Y_btrain.argmax(dim=1),1,0))/Y_btrain.shape[0]\n",
    "\n",
    "# whole train set accuracy\n",
    "Z1_train=X_etrain@params['W1'] + params['b1']\n",
    "A1_train=torch.tanh(Z1_train)\n",
    "A1_norm_train=(A1_train-A1_train.mean(dim=0,keepdim=True))/(A1_train.std(dim=0,keepdim=True))   \n",
    "A2_train=A1_norm_train*params['gamma']+params['beta']\n",
    "Z2_train=A2_train@params['W2'] + params['b2']\n",
    "Y_ehat_train=softmax(Z2_train)\n",
    "\n",
    "train_accuracy=torch.sum(torch.where(Y_ehat_train.argmax(dim=1)==Y_enc_etrain.argmax(dim=1),1,0))/Y_enc_etrain.shape[0]\n",
    "\n",
    "# test accuracy\n",
    "Z1_test=X_etest@params['W1'] + params['b1']\n",
    "A1_test=torch.tanh(Z1_test)\n",
    "A1_norm_test=(A1_test-params['l1_mean'])/(params['l1_std'])   \n",
    "A2_test=A1_norm_test*params['gamma']+params['beta']\n",
    "Z2_test=A2_test@params['W2'] + params['b2']\n",
    "Y_ehat_test=softmax(Z2_test)\n",
    "predictions_test = Y_ehat_test.argmax(dim=1)\n",
    "\n",
    "test_accuracy=torch.sum(torch.where(predictions_test==Y_enc_etest.argmax(dim=1),1,0))/predictions_test.shape[0]\n",
    "\n",
    "\n",
    "# print(f\"Last Batch - Train Accuracy: {train_batch_accuracy*100: .2f}%\")\n",
    "print(f\"Whole Train Accuracy: {train_accuracy*100: .2f}%\")\n",
    "print(f\"Whole Test Accuracy: {test_accuracy*100: .2f}%\")"
   ]
  },
  {
   "cell_type": "markdown",
   "metadata": {},
   "source": [
    "## Lets see what we got wrong predictions on"
   ]
  },
  {
   "cell_type": "code",
   "execution_count": 19,
   "metadata": {},
   "outputs": [
    {
     "name": "stdout",
     "output_type": "stream",
     "text": [
      "54\n"
     ]
    },
    {
     "data": {
      "image/png": "[encoded data removed]",
      "text/plain": [
       "<Figure size 1500x1500 with 9 Axes>"
      ]
     },
     "metadata": {},
     "output_type": "display_data"
    }
   ],
   "source": [
    "# Create subplots\n",
    "fig, axs = plt.subplots(3, 3, figsize=(15, 15))\n",
    "\n",
    "# Plot images\n",
    "# Plot images\n",
    "c=-1\n",
    "j=0\n",
    "i=-1\n",
    "\n",
    "end_loop=False\n",
    "\n",
    "while i!=3:\n",
    "    if end_loop:\n",
    "        print(c)\n",
    "        break\n",
    "    i+=1\n",
    "    j=0\n",
    "    while j!=3:\n",
    "        c+=1\n",
    "        img, label = test_edata[c]  # Accessing each image and label\n",
    "        if (label!=predictions_test[c].item()):\n",
    "            axs[i, j].imshow(img.squeeze().T,cmap='gray')\n",
    "            axs[i, j].set_title(f'True Label: {list((train_edata.class_to_idx).keys())[label]} | Pred Label: {list((train_edata.class_to_idx).keys())[predictions_test[c].item()]} | idx: {c}')\n",
    "            axs[i, j].axis('off')  # Hide axis\n",
    "            j+=1\n",
    "        if((c==2000) or (i==2 and j>2)):  # could scan maximum of 2k images and minimum of 81 elements\n",
    "            end_loop=True\n",
    "            break        \n",
    "\n",
    "\n",
    "plt.tight_layout()\n",
    "plt.show()"
   ]
  }
 ],
 "metadata": {
  "kernelspec": {
   "display_name": "bajra",
   "language": "python",
   "name": "python3"
  },
  "language_info": {
   "codemirror_mode": {
    "name": "ipython",
    "version": 3
   },
   "file_extension": ".py",
   "mimetype": "text/x-python",
   "name": "python",
   "nbconvert_exporter": "python",
   "pygments_lexer": "ipython3",
   "version": "3.12.3"
  }
 },
 "nbformat": 4,
 "nbformat_minor": 2
}
