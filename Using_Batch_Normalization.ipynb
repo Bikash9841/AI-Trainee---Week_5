{
 "cells": [
  {
   "cell_type": "code",
   "execution_count": 1,
   "metadata": {},
   "outputs": [
    {
     "name": "stderr",
     "output_type": "stream",
     "text": [
      "/home/bikasherl/miniconda3/envs/bajra/lib/python3.12/site-packages/torch/cuda/__init__.py:619: UserWarning: Can't initialize NVML\n",
      "  warnings.warn(\"Can't initialize NVML\")\n"
     ]
    }
   ],
   "source": [
    "import torch\n",
    "import torchvision\n",
    "from torchvision.datasets import MNIST,EMNIST\n",
    "from torchvision.transforms import ToTensor\n",
    "import matplotlib.pyplot as plt"
   ]
  },
  {
   "cell_type": "code",
   "execution_count": 2,
   "metadata": {},
   "outputs": [],
   "source": [
    "def softmax(Z):\n",
    "    return (torch.exp(Z)/torch.sum(torch.exp(Z),dim=1,keepdim=True))\n",
    "\n",
    "def categorical_cross_entropy(Y_enc_train,Y_hat):\n",
    "    return torch.sum((-Y_enc_train*torch.log(Y_hat)),dim=1,keepdim=True).mean()\n",
    " "
   ]
  },
  {
   "cell_type": "markdown",
   "metadata": {},
   "source": [
    "## Loading EMNIST Dataset"
   ]
  },
  {
   "cell_type": "code",
   "execution_count": 3,
   "metadata": {},
   "outputs": [
    {
     "data": {
      "text/plain": [
       "(Dataset EMNIST\n",
       "     Number of datapoints: 112800\n",
       "     Root location: emnist_dataset/train/\n",
       "     Split: Train\n",
       "     StandardTransform\n",
       " Transform: ToTensor(),\n",
       " Dataset EMNIST\n",
       "     Number of datapoints: 18800\n",
       "     Root location: emnist_dataset/test/\n",
       "     Split: Test\n",
       "     StandardTransform\n",
       " Transform: ToTensor())"
      ]
     },
     "execution_count": 3,
     "metadata": {},
     "output_type": "execute_result"
    }
   ],
   "source": [
    "train_edata=EMNIST(root='emnist_dataset/train/',split='balanced',train=True,download=True,transform=ToTensor())\n",
    "test_edata=EMNIST(root='emnist_dataset/test/',split='balanced',train=False,download=True,transform=ToTensor())\n",
    "train_edata,test_edata"
   ]
  },
  {
   "cell_type": "markdown",
   "metadata": {},
   "source": [
    "## Preparing Training and Test Set"
   ]
  },
  {
   "cell_type": "code",
   "execution_count": 4,
   "metadata": {},
   "outputs": [
    {
     "data": {
      "text/plain": [
       "(torch.Size([112800, 784]),\n",
       " torch.Size([112800, 1]),\n",
       " torch.Size([18800, 784]),\n",
       " torch.Size([18800, 1]))"
      ]
     },
     "execution_count": 4,
     "metadata": {},
     "output_type": "execute_result"
    }
   ],
   "source": [
    "#train set\n",
    "X_etrain=torch.flatten(train_edata.data,1,2).to(torch.float64)\n",
    "Y_etrain=train_edata.targets.reshape(X_etrain.shape[0],1).to(torch.int8)\n",
    "\n",
    "X_etrain.shape,Y_etrain.shape\n",
    "\n",
    "# test set\n",
    "X_etest=torch.flatten(test_edata.data,1,2).to(torch.float64)\n",
    "Y_etest=test_edata.targets.reshape(X_etest.shape[0],1).to(torch.int8)\n",
    "\n",
    "X_etrain.shape,Y_etrain.shape,X_etest.shape,Y_etest.shape"
   ]
  },
  {
   "cell_type": "code",
   "execution_count": 5,
   "metadata": {},
   "outputs": [],
   "source": [
    "# scaling train dataset\n",
    "for i in range(X_etrain.shape[0]):\n",
    "    X_etrain[i]=(X_etrain[i]-X_etrain[i].min())/(X_etrain[i].max()-X_etrain[i].min())\n",
    "\n",
    "\n",
    "# scaling test dataset\n",
    "for i in range(X_etest.shape[0]):\n",
    "    X_etest[i]=(X_etest[i]-X_etest[i].min())/(X_etest[i].max()-X_etest[i].min())"
   ]
  },
  {
   "cell_type": "code",
   "execution_count": 6,
   "metadata": {},
   "outputs": [
    {
     "data": {
      "text/plain": [
       "(torch.Size([112800, 47]), torch.Size([18800, 47]))"
      ]
     },
     "execution_count": 6,
     "metadata": {},
     "output_type": "execute_result"
    }
   ],
   "source": [
    "## One hot encoding For the labels\n",
    "\n",
    "Y_enc_etrain=torch.zeros((Y_etrain.shape[0],len(train_edata.classes))).to(torch.int8)\n",
    "\n",
    "for i in range(Y_etrain.shape[0]):\n",
    "    Y_enc_etrain[i][Y_etrain[i].item()]=1\n",
    "\n",
    "\n",
    "Y_enc_etest=torch.zeros((Y_etest.shape[0],len(test_edata.classes))).to(torch.int8)\n",
    "\n",
    "for i in range(Y_etest.shape[0]):\n",
    "    Y_enc_etest[i][Y_etest[i].item()]=1\n",
    "\n",
    "\n",
    "Y_enc_etrain.shape,Y_enc_etest.shape"
   ]
  },
  {
   "cell_type": "markdown",
   "metadata": {},
   "source": [
    "## Weight and Bias Initialization"
   ]
  },
  {
   "cell_type": "code",
   "execution_count": 7,
   "metadata": {},
   "outputs": [
    {
     "name": "stdout",
     "output_type": "stream",
     "text": [
      "shape- W1: torch.Size([784, 128])       \n",
      "shape- b1: torch.Size([1, 128])      \n",
      "shape- W2: torch.Size([128, 47])      \n",
      "shape- b2: torch.Size([1, 47])\n"
     ]
    }
   ],
   "source": [
    "# torch.manual_seed(42)\n",
    "\n",
    "num_input=X_etrain.shape[1]\n",
    "num_hidden=128\n",
    "\n",
    "\n",
    "# kaiming weight initialization\n",
    "W1=torch.randn((num_input,num_hidden),dtype=torch.float64,requires_grad=False)*torch.sqrt(torch.tensor(2/num_input))\n",
    "b1=torch.randn((1,num_hidden),dtype=torch.float64,requires_grad=False)*torch.sqrt(torch.tensor(2/num_input))\n",
    "\n",
    "W2=torch.randn((num_hidden,Y_enc_etrain.shape[1]),dtype=torch.float64,requires_grad=False)*torch.sqrt(torch.tensor(2/num_hidden))\n",
    "b2=torch.randn((1,Y_enc_etrain.shape[1]),dtype=torch.float64,requires_grad=False)*torch.sqrt(torch.tensor(2/num_hidden))\n",
    "\n",
    "\n",
    "print(f\"shape- W1: {W1.shape}\\\n",
    "       \\nshape- b1: {b1.shape}\\\n",
    "      \\nshape- W2: {W2.shape}\\\n",
    "      \\nshape- b2: {b2.shape}\")"
   ]
  },
  {
   "cell_type": "markdown",
   "metadata": {},
   "source": [
    "## Comparing Utility Function"
   ]
  },
  {
   "cell_type": "code",
   "execution_count": 8,
   "metadata": {},
   "outputs": [],
   "source": [
    "#utitlity function to check manually calculated gradients with that of pytorch autograd\n",
    "def cmp(s, dt, t):\n",
    "  ex = torch.all(dt == t.grad).item()\n",
    "  app = torch.allclose(dt, t.grad)\n",
    "  maxdiff = (dt - t.grad).abs().max().item()\n",
    "  print(f'{s:15s} | exact: {str(ex):5s} | approximate: {str(app):5s} | maxdiff: {maxdiff}')"
   ]
  },
  {
   "cell_type": "markdown",
   "metadata": {},
   "source": [
    "## Gamma and Beta Initialization"
   ]
  },
  {
   "cell_type": "code",
   "execution_count": 9,
   "metadata": {},
   "outputs": [
    {
     "data": {
      "text/plain": [
       "(torch.Size([32, 784]), torch.Size([32, 47]))"
      ]
     },
     "execution_count": 9,
     "metadata": {},
     "output_type": "execute_result"
    }
   ],
   "source": [
    "\n",
    "batch_size=32\n",
    "\n",
    "# a single batch\n",
    "X_btrain=X_etrain[:batch_size,:]\n",
    "Y_btrain=Y_enc_etrain[:batch_size,:]\n",
    "\n",
    "gamma=torch.randn((1,num_hidden),requires_grad=False,dtype=torch.float64)\n",
    "beta=torch.randn((1,num_hidden),requires_grad=False,dtype=torch.float64)\n",
    "\n",
    "X_btrain.shape,Y_btrain.shape\n",
    "\n"
   ]
  },
  {
   "cell_type": "code",
   "execution_count": 10,
   "metadata": {},
   "outputs": [],
   "source": [
    "loss_list_train=[]"
   ]
  },
  {
   "cell_type": "code",
   "execution_count": 11,
   "metadata": {},
   "outputs": [],
   "source": [
    "for i in range(100):\n",
    "    idx=0\n",
    "    for batch in range(torch.tensor(int(X_etrain.shape[0]/batch_size))):\n",
    "\n",
    "        X_btrain=X_etrain[idx:batch_size+idx,:]\n",
    "        Y_btrain=Y_enc_etrain[idx:batch_size+idx,:]\n",
    "\n",
    "        idx=idx+batch_size\n",
    "\n",
    "        # first layer\n",
    "        Z1=X_btrain@W1 + b1\n",
    "        A1=torch.tanh(Z1)\n",
    "\n",
    "        A1_mean=A1.sum(dim=0,keepdim=True)/A1.shape[0]\n",
    "        # A1_std=(torch.sqrt(torch.sum(((A1-A1_mean)**2),dim=0,keepdim=True)/A1.shape[0])) #+1e-10 # adding small term with std to eliminate dividing by 0 at A1_norm\n",
    "        A1_std=A1.std(dim=0,keepdim=True)\n",
    "        A1_norm=(A1-A1_mean)/(A1_std)   \n",
    "\n",
    "        # batch normalization\n",
    "        A2=A1_norm*gamma+beta\n",
    "\n",
    "        # output layer\n",
    "        Z2=A2@W2 + b2\n",
    "        Y_ehat=softmax(Z2)\n",
    "\n",
    "        # Loss=categorical_cross_entropy(Y_btrain,Y_ehat)\n",
    "        Loss=torch.sum((-Y_btrain*torch.log(Y_ehat)),dim=1,keepdim=True).mean()\n",
    "\n",
    "        # backpropgation\n",
    "\n",
    "        dL_dZ2=(Y_ehat-Y_btrain)/X_btrain.shape[0]\n",
    "        dZ2_dW2=A2\n",
    "\n",
    "        dL_dW2=dZ2_dW2.T@dL_dZ2\n",
    "        dL_db2=torch.sum(dL_dZ2,dim=0,keepdim=True)\n",
    "\n",
    "\n",
    "        dZ2_dA2=W2\n",
    "        dL_dA2= dL_dZ2 @ dZ2_dA2.T\n",
    "\n",
    "        dA2_dgamma=A1_norm\n",
    "        dL_dgamma=torch.sum(dL_dA2*dA2_dgamma,dim=0,keepdim=True)\n",
    "        dL_dbeta=torch.sum(dL_dA2,dim=0,keepdim=True)\n",
    "\n",
    "        dA2_dA1_norm=gamma  \n",
    "        dL_dA1_norm=dL_dA2*dA2_dA1_norm    \n",
    "\n",
    "        dA1_norm_dA1_std= -(A1-A1_mean)*(A1_std**-2)\n",
    "        dA1_norm_dA1_mean=-(A1_std**-1)\n",
    "        dA1_norm_dA1=A1_std**-1\n",
    "\n",
    "        dA1_std_dA1_mean=((1/(A1.shape[0]**(1/2)))*(((torch.sum(((A1-A1_mean)**2),dim=0,keepdim=True)))**(-0.5))*(A1-A1_mean)*-1)\n",
    "        dA1_std_dA1=(1/(A1.shape[0]**(1/2)))*(((torch.sum(((A1-A1_mean)**2),dim=0,keepdim=True)))**(-0.5))*(A1-A1_mean)\n",
    "\n",
    "\n",
    "        dL_dA1_std=torch.sum(dL_dA1_norm*dA1_norm_dA1_std,dim=0,keepdim=True)   \n",
    "\n",
    "        dL_dA1_mean=torch.sum(dA1_norm_dA1_mean*dL_dA1_norm,dim=0,keepdim=True) \n",
    "        dL_dA1_mean+=torch.sum(dA1_std_dA1_mean*dL_dA1_std,dim=0,keepdim=True)\n",
    "\n",
    "\n",
    "        dA1_mean_dA1=(torch.ones_like(A1)/A1.shape[0])\n",
    "\n",
    "        dL_dA1=dA1_norm_dA1*dL_dA1_norm\n",
    "        dL_dA1+=dA1_std_dA1*dL_dA1_std\n",
    "        dL_dA1+=(1/A1.shape[0])*dL_dA1_mean\n",
    "\n",
    "\n",
    "        # dA1_dZ1=torch.where((Z1<0),0, 1)\n",
    "        dA1_dZ1=(1-(torch.tanh(Z1))**2)\n",
    "\n",
    "        dL_dZ1=(dA1_dZ1 * dL_dA1)\n",
    "\n",
    "        dZ1_dW1=X_btrain\n",
    "\n",
    "        dL_dW1=dZ1_dW1.T @ dL_dZ1\n",
    "        dL_db1=torch.sum(dL_dZ1,dim=0,keepdim=True)\n",
    "\n",
    "        # weights and biases optimization\n",
    "        W2-=0.01*dL_dW2\n",
    "        b2-=0.01*dL_db2\n",
    "        W1-=0.01*dL_dW1\n",
    "        b1-=0.01*dL_db1\n",
    "    loss_list_train.append(Loss.item())\n"
   ]
  },
  {
   "cell_type": "code",
   "execution_count": 12,
   "metadata": {},
   "outputs": [
    {
     "data": {
      "image/png": "[encoded data removed]",
      "text/plain": [
       "<Figure size 640x480 with 1 Axes>"
      ]
     },
     "metadata": {},
     "output_type": "display_data"
    }
   ],
   "source": [
    "plt.plot(loss_list_train)\n",
    "plt.show()"
   ]
  },
  {
   "cell_type": "code",
   "execution_count": 23,
   "metadata": {},
   "outputs": [
    {
     "data": {
      "text/plain": [
       "tensor([ 5, 31, 12, 11,  6, 35, 14, 43, 39, 16,  9, 15, 35, 26,  9, 19, 24,  8,\n",
       "        39, 40,  9, 26, 18, 10, 19, 33,  6, 22, 46, 23, 31,  8])"
      ]
     },
     "execution_count": 23,
     "metadata": {},
     "output_type": "execute_result"
    }
   ],
   "source": [
    "predictions = Y_ehat.argmax(dim=1)\n",
    "predictions"
   ]
  },
  {
   "cell_type": "code",
   "execution_count": 27,
   "metadata": {},
   "outputs": [
    {
     "data": {
      "text/plain": [
       "tensor([ 5, 31, 12, 11,  6, 35, 14, 43, 39, 16, 44, 15, 35, 26,  9, 19, 24,  8,\n",
       "        39, 40,  7, 26, 18, 10, 19, 33,  6, 22, 17, 23, 31,  8])"
      ]
     },
     "execution_count": 27,
     "metadata": {},
     "output_type": "execute_result"
    }
   ],
   "source": [
    "Y_btrain.argmax(dim=1)"
   ]
  },
  {
   "cell_type": "code",
   "execution_count": 31,
   "metadata": {},
   "outputs": [
    {
     "name": "stdout",
     "output_type": "stream",
     "text": [
      "last training batch accuracy: 90.625%\n"
     ]
    }
   ],
   "source": [
    "train_batch_accuracy=torch.sum(torch.where(predictions==Y_btrain.argmax(dim=1),1,0))/32\n",
    "\n",
    "print(f\"last training batch accuracy: {train_batch_accuracy*100}%\")"
   ]
  },
  {
   "cell_type": "code",
   "execution_count": 13,
   "metadata": {},
   "outputs": [],
   "source": [
    "# for each in [Z2,A2,A1_norm,gamma,beta,A1_std,A1_mean,W1,W2,b1,b2,A1,Z1]:\n",
    "#     each.retain_grad()"
   ]
  },
  {
   "cell_type": "code",
   "execution_count": 14,
   "metadata": {},
   "outputs": [],
   "source": [
    "# Loss.backward()"
   ]
  },
  {
   "cell_type": "code",
   "execution_count": 15,
   "metadata": {},
   "outputs": [],
   "source": [
    "# (dA1_norm_dA1_mean * dL_dA1_norm)[0].sum(), A1_mean.grad"
   ]
  },
  {
   "cell_type": "code",
   "execution_count": 16,
   "metadata": {},
   "outputs": [],
   "source": [
    "# cmp(\"dZ2\", dL_dZ2, Z2)\n",
    "# cmp(\"dW2\", dL_dW2, W2)\n",
    "# cmp(\"db2\", dL_db2, b2)\n",
    "# cmp(\"dA2\", dL_dA2, A2)\n",
    "# cmp(\"dgamma\", dL_dgamma, gamma)\n",
    "# cmp(\"dbeta\", dL_dbeta, beta)\n",
    "# cmp(\"dA1_norm\", dL_dA1_norm, A1_norm)\n",
    "# cmp(\"dA1_std\", dL_dA1_std, A1_std)\n",
    "# cmp(\"dA1_mean\", dL_dA1_mean, A1_mean)\n",
    "# cmp(\"dA1\", dL_dA1, A1)\n",
    "# cmp(\"dZ1\", dL_dZ1, Z1)\n",
    "# cmp(\"dW1\", dL_dW1, W1)\n",
    "# cmp(\"db1\", dL_db1, b1)\n",
    "\n"
   ]
  }
 ],
 "metadata": {
  "kernelspec": {
   "display_name": "bajra",
   "language": "python",
   "name": "python3"
  },
  "language_info": {
   "codemirror_mode": {
    "name": "ipython",
    "version": 3
   },
   "file_extension": ".py",
   "mimetype": "text/x-python",
   "name": "python",
   "nbconvert_exporter": "python",
   "pygments_lexer": "ipython3",
   "version": "3.12.3"
  }
 },
 "nbformat": 4,
 "nbformat_minor": 2
}
